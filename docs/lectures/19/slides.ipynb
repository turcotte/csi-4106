{
  "cells": [
    {
      "cell_type": "markdown",
      "metadata": {},
      "source": [
        "# Quiz 2\n",
        "\n",
        "CSI 4106 Introduction to Artificial Intelligence\n",
        "\n",
        "Marcel Turcotte  \n",
        "Version: Jul 11, 2025 15:46\n",
        "\n",
        "# Important Information\n",
        "\n",
        "Russell, Stuart, and Peter Norvig. 2020. *Artificial Intelligence: A\n",
        "Modern Approach*. 4th ed. Pearson. <http://aima.cs.berkeley.edu/>."
      ],
      "id": "ebcae9b2-18f0-4d80-897f-f6d1183d28c0"
    }
  ],
  "nbformat": 4,
  "nbformat_minor": 5,
  "metadata": {
    "kernelspec": {
      "display_name": "Python 3",
      "language": "python",
      "name": "python3"
    }
  }
}