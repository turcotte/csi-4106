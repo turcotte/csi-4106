{
  "cells": [
    {
      "cell_type": "markdown",
      "metadata": {},
      "source": [
        "# Neuro-Symbolic\n",
        "\n",
        "CSI 4106 Introduction to Artificial Intelligence\n",
        "\n",
        "Marcel Turcotte  \n",
        "Version: Jul 11, 2025 15:58\n",
        "\n",
        "# Preamble\n",
        "\n",
        "## Quote of the Day\n",
        "\n",
        "## Learning objectives\n",
        "\n",
        "-   Clarify…\n",
        "-   Summarize…\n",
        "-   Discuss..\n",
        "\n",
        "## Prologue\n",
        "\n",
        "Russell, Stuart, and Peter Norvig. 2020. *Artificial Intelligence: A\n",
        "Modern Approach*. 4th ed. Pearson. <http://aima.cs.berkeley.edu/>."
      ],
      "id": "ae85ec2e-3415-4983-9c44-84ffe54cebfa"
    }
  ],
  "nbformat": 4,
  "nbformat_minor": 5,
  "metadata": {
    "kernelspec": {
      "display_name": "Python 3",
      "language": "python",
      "name": "python3"
    }
  }
}