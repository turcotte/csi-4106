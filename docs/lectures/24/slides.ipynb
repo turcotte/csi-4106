{
  "cells": [
    {
      "cell_type": "markdown",
      "metadata": {},
      "source": [
        "# Review\n",
        "\n",
        "CSI 4106 Introduction to Artificial Intelligence\n",
        "\n",
        "Marcel Turcotte  \n",
        "Version: Jul 11, 2025 16:01\n",
        "\n",
        "# Preamble\n",
        "\n",
        "## Quote of the Day\n",
        "\n",
        "## Learning objectives\n",
        "\n",
        "-   Clarify…\n",
        "-   Summarize…\n",
        "-   Discuss..\n",
        "\n",
        "## Prologue\n",
        "\n",
        "Russell, Stuart, and Peter Norvig. 2020. *Artificial Intelligence: A\n",
        "Modern Approach*. 4th ed. Pearson. <http://aima.cs.berkeley.edu/>."
      ],
      "id": "95e808e4-d8db-4511-b63b-eba7366a15f2"
    }
  ],
  "nbformat": 4,
  "nbformat_minor": 5,
  "metadata": {
    "kernelspec": {
      "display_name": "Python 3",
      "language": "python",
      "name": "python3"
    }
  }
}