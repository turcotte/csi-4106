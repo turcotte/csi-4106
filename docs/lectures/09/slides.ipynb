{
  "cells": [
    {
      "cell_type": "markdown",
      "metadata": {},
      "source": [
        "# Quiz 1\n",
        "\n",
        "CSI 4106 - Fall 2025\n",
        "\n",
        "Marcel Turcotte  \n",
        "Version: Jul 10, 2025 15:53\n",
        "\n",
        "# Important Information\n",
        "\n",
        "Russell, Stuart, and Peter Norvig. 2020. *Artificial Intelligence: A\n",
        "Modern Approach*. 4th ed. Pearson. <http://aima.cs.berkeley.edu/>."
      ],
      "id": "4c3f6377-5fd9-4980-8332-d11bacbfab40"
    }
  ],
  "nbformat": 4,
  "nbformat_minor": 5,
  "metadata": {
    "kernelspec": {
      "display_name": "Python 3",
      "language": "python",
      "name": "python3"
    }
  }
}