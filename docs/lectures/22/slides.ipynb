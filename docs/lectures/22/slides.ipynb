{
  "cells": [
    {
      "cell_type": "markdown",
      "metadata": {},
      "source": [
        "# Formal Reasoning\n",
        "\n",
        "CSI 4106 Introduction to Artificial Intelligence\n",
        "\n",
        "Marcel Turcotte  \n",
        "Version: Jul 11, 2025 15:57\n",
        "\n",
        "# Preamble\n",
        "\n",
        "## Quote of the Day\n",
        "\n",
        "## Learning objectives\n",
        "\n",
        "-   Clarify…\n",
        "-   Summarize…\n",
        "-   Discuss..\n",
        "\n",
        "## Prologue\n",
        "\n",
        "Russell, Stuart, and Peter Norvig. 2020. *Artificial Intelligence: A\n",
        "Modern Approach*. 4th ed. Pearson. <http://aima.cs.berkeley.edu/>."
      ],
      "id": "0ab26195-3f1e-4b33-b662-fb8f7d9baf14"
    }
  ],
  "nbformat": 4,
  "nbformat_minor": 5,
  "metadata": {
    "kernelspec": {
      "display_name": "Python 3",
      "language": "python",
      "name": "python3"
    }
  }
}