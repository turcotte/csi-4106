{
  "cells": [
    {
      "cell_type": "markdown",
      "metadata": {},
      "source": [
        "# Glossary\n",
        "\n",
        "Softmax\n",
        "\n",
        "Marcel Turcotte (School of Electrical Engineering and Computer Science,\n",
        "University of Ottawa)  \n",
        "2025-07-10\n",
        "\n",
        "The standard (unit) **softmax** function is a mathematical function that\n",
        "converts a vector of real numbers into a probability distribution, where\n",
        "the components of the vector are exponentiated and then normalized by\n",
        "dividing by the sum of all exponentiated components. This ensures that\n",
        "the output values are in the range $(0, 1)$ and sum up to 1, making them\n",
        "suitable for representing probabilities. Specifically,\n",
        "$\\sigma: \\mathbb{R}^K \\rightarrow(0,1)^K$, for $K > 1$ and\n",
        "$\\mathbf{z} = (z_1,\\ldots,z_K) \\in \\mathbb{R}^K$.\n",
        "\n",
        "$$\n",
        "\\sigma(\\mathbf{z}) = \\frac{e^{z_i}}{\\sum_{j=1}^K e^{z_j}}\n",
        "$$"
      ],
      "id": "515e92e3-9ff0-4ed2-bf88-45d2d489c9b0"
    },
    {
      "cell_type": "code",
      "execution_count": 1,
      "metadata": {},
      "outputs": [
        {
          "output_type": "stream",
          "name": "stdout",
          "text": [
            "[0.69339596 0.10794277 0.19866127] 1.0"
          ]
        }
      ],
      "source": [
        "import numpy as np\n",
        "\n",
        "def softmax(z):\n",
        "  return np.exp(z) / np.sum(np.exp(z))\n",
        "\n",
        "s = softmax([1.47, -0.39, 0.22])\n",
        "print(s, sum(s))"
      ],
      "id": "8639ed33"
    }
  ],
  "nbformat": 4,
  "nbformat_minor": 5,
  "metadata": {
    "kernelspec": {
      "name": "python3",
      "display_name": "Python 3 (ipykernel)",
      "language": "python",
      "path": "/Users/turcotte/opt/micromamba/envs/ai/share/jupyter/kernels/python3"
    },
    "language_info": {
      "name": "python",
      "codemirror_mode": {
        "name": "ipython",
        "version": "3"
      },
      "file_extension": ".py",
      "mimetype": "text/x-python",
      "nbconvert_exporter": "python",
      "pygments_lexer": "ipython3",
      "version": "3.10.18"
    }
  }
}